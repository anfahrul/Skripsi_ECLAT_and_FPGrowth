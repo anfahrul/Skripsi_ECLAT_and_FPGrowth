{
 "cells": [
  {
   "cell_type": "code",
   "execution_count": 60,
   "metadata": {},
   "outputs": [],
   "source": [
    "lst = ['f', 'a', 'c', 'd', 'g', 'i', 'm', 'p', 'a', 'b', 'c', 'f', 'l', 'm', 'o', 'b', 'f', 'h', 'j', 'o', 'b', 'c', 'k', 's', 'p', 'a', 'f', 'c', 'e', 'l', 'p', 'm', 'n']\n",
    "lst2 = ['I1', 'I2', 'I5', 'I2', 'I4', 'I2', 'I3', 'I1', 'I2', 'I4', 'I1', 'I3', 'I2', 'I3', 'I1', 'I3', 'I6', 'I1', 'I2', 'I3', 'I5', 'I1', 'I2', 'I3']"
   ]
  },
  {
   "cell_type": "code",
   "execution_count": 61,
   "metadata": {},
   "outputs": [
    {
     "name": "stdout",
     "output_type": "stream",
     "text": [
      "Item: f, Frequency: 4\n",
      "Item: c, Frequency: 4\n",
      "Item: a, Frequency: 3\n",
      "Item: m, Frequency: 3\n",
      "Item: p, Frequency: 3\n",
      "Item: b, Frequency: 3\n",
      "Item: l, Frequency: 2\n",
      "Item: o, Frequency: 2\n",
      "Item: d, Frequency: 1\n",
      "Item: g, Frequency: 1\n",
      "Item: i, Frequency: 1\n",
      "Item: h, Frequency: 1\n",
      "Item: j, Frequency: 1\n",
      "Item: k, Frequency: 1\n",
      "Item: s, Frequency: 1\n",
      "Item: e, Frequency: 1\n",
      "Item: n, Frequency: 1\n"
     ]
    }
   ],
   "source": [
    "from collections import Counter\n",
    "\n",
    "# Create a Counter object\n",
    "counter = Counter(lst)\n",
    "\n",
    "# Get the most common items\n",
    "most_common = counter.most_common()\n",
    "\n",
    "# Print the most common items\n",
    "for item, freq in most_common:\n",
    "   print(f\"Item: {item}, Frequency: {freq}\")\n"
   ]
  },
  {
   "cell_type": "code",
   "execution_count": 75,
   "metadata": {},
   "outputs": [
    {
     "name": "stdout",
     "output_type": "stream",
     "text": [
      "BEFORE\n",
      "['f', 'h', 'j', 'l', 'a', 'b', 'c', 'e', 'k', 's', 'd', 'g', 'i', 'm', 'n', 'o', 'p']\n",
      "[4, 1, 1, 2, 3, 3, 4, 1, 1, 1, 1, 1, 1, 3, 1, 2, 3]\n",
      "AFTER\n",
      "OrderedDict([('f', 4), ('c', 4), ('a', 3), ('b', 3), ('m', 3), ('p', 3)])\n"
     ]
    }
   ],
   "source": [
    "from collections import OrderedDict\n",
    "\n",
    "def hitung_frekuensi(data):\n",
    "    items = []\n",
    "    frequencyOfItems = []\n",
    "\n",
    "    currentIndex = 0\n",
    "    for item in data:\n",
    "        if item not in items:\n",
    "            items.insert(currentIndex+1, item)\n",
    "            frequencyOfItems.insert(currentIndex+1, 1)\n",
    "            \n",
    "            indexOfItem = items.index(item)\n",
    "            # print(\"item:{} index:{} current_index:{} freq:{}\".format(item, index_of_item, current_index, frekuensi[current_index]))\n",
    "            \n",
    "            currentIndex = items.index(item)\n",
    "            \n",
    "        else:\n",
    "            indexOfItem = items.index(item)\n",
    "            frequencyOfItems[indexOfItem] += 1\n",
    "            # print(\"[EXIST] item:{} index:{} current_index:{} freq:{}\".format(item, index_of_item, current_index, frekuensi[index_of_item]))\n",
    "            \n",
    "            currentIndex = indexOfItem\n",
    "    \n",
    "    return items, frequencyOfItems\n",
    "\n",
    "def filter_and_sort(items, frequencies, threshold):\n",
    "    # Memfilter item dan frekuensinya\n",
    "    filtered_data = [(item, freq) for item, freq in zip(items, frequencies) if freq >= threshold]\n",
    "\n",
    "    # Mengurutkan item dan frekuensinya secara descending, dan jika frekuensinya sama, urutkan berdasarkan kemunculan\n",
    "    sorted_data = sorted(filtered_data, key=lambda x: (x[1], -items.index(x[0])), reverse=True)\n",
    "\n",
    "    # Membuat OrderedDict baru\n",
    "    sorted_dict = OrderedDict(sorted_data)\n",
    "\n",
    "    return sorted_dict\n",
    "\n",
    "\n",
    "items, frequencyOfItems = hitung_frekuensi(lst)\n",
    "sorted_dict = filter_and_sort(items, frequencyOfItems, 3)\n",
    "\n",
    "\n",
    "print(\"BEFORE\")\n",
    "print(items)\n",
    "print(frequencyOfItems)\n",
    "\n",
    "\n",
    "print(\"AFTER\")\n",
    "print(sorted_dict)"
   ]
  },
  {
   "cell_type": "code",
   "execution_count": 78,
   "metadata": {},
   "outputs": [
    {
     "name": "stdout",
     "output_type": "stream",
     "text": [
      "odict_items([('f', 4), ('c', 4), ('a', 3), ('b', 3), ('m', 3), ('p', 3)])\n"
     ]
    }
   ],
   "source": [
    "from collections import OrderedDict\n",
    "\n",
    "def hitung_frekuensi_dan_sort(data, threshold):\n",
    "    items = []\n",
    "    frequency_of_items = []\n",
    "\n",
    "    current_index = 0\n",
    "    for item in data:\n",
    "        if item not in items:\n",
    "            items.insert(current_index+1, item)\n",
    "            frequency_of_items.insert(current_index+1, 1)\n",
    "            \n",
    "            current_index = items.index(item)\n",
    "            \n",
    "        else:\n",
    "            index_of_item = items.index(item)\n",
    "            frequency_of_items[index_of_item] += 1\n",
    "            current_index = index_of_item\n",
    "    \n",
    "    # Memfilter item dan frekuensinya\n",
    "    filtered_data = [(item, freq) for item, freq in zip(items, frequency_of_items) if freq >= threshold]\n",
    "\n",
    "    # Mengurutkan item dan frekuensinya secara descending, dan jika frekuensinya sama, urutkan berdasarkan kemunculan\n",
    "    sorted_data = sorted(filtered_data, key=lambda x: (x[1], -items.index(x[0])), reverse=True)\n",
    "\n",
    "    # Membuat OrderedDict baru\n",
    "    sorted_dict = OrderedDict(sorted_data)\n",
    "\n",
    "    return sorted_dict\n",
    "\n",
    "# Contoh data\n",
    "lst = ['f', 'a', 'c', 'd', 'g', 'i', 'm', 'p', 'a', 'b', 'c', 'f', 'l', 'm', 'o', 'b', 'f', 'h', 'j', 'o', 'b', 'c', 'k', 's', 'p', 'a', 'f', 'c', 'e', 'l', 'p', 'm', 'n']\n",
    "\n",
    "# Menentukan threshold frekuensi\n",
    "threshold = 3\n",
    "\n",
    "# Memanggil fungsi hitung_frekuensi_dan_sort\n",
    "result = hitung_frekuensi_dan_sort(lst, threshold)\n",
    "\n",
    "print(result.items())\n"
   ]
  }
 ],
 "metadata": {
  "kernelspec": {
   "display_name": "venv",
   "language": "python",
   "name": "python3"
  },
  "language_info": {
   "codemirror_mode": {
    "name": "ipython",
    "version": 3
   },
   "file_extension": ".py",
   "mimetype": "text/x-python",
   "name": "python",
   "nbconvert_exporter": "python",
   "pygments_lexer": "ipython3",
   "version": "3.11.3"
  }
 },
 "nbformat": 4,
 "nbformat_minor": 2
}
