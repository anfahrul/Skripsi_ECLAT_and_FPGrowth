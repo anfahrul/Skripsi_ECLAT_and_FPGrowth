{
 "cells": [
  {
   "cell_type": "code",
   "execution_count": 242,
   "metadata": {},
   "outputs": [],
   "source": [
    "import sys, os\n",
    "from optparse import OptionParser\n",
    "import csv\n",
    "from itertools import chain, combinations"
   ]
  },
  {
   "cell_type": "markdown",
   "metadata": {},
   "source": [
    "### Eclat Implementation"
   ]
  },
  {
   "cell_type": "code",
   "execution_count": 243,
   "metadata": {},
   "outputs": [],
   "source": [
    "class Itemset:\n",
    "    def __init__(self, item):\n",
    "        self.item = item\n",
    "        self.support = 0\n",
    "        self.tids = set()"
   ]
  },
  {
   "cell_type": "code",
   "execution_count": 244,
   "metadata": {},
   "outputs": [],
   "source": [
    "class Eclat:\n",
    "    def __init__(self, filename, minsup, output=False, outfilename=None, maxdepth=0):\n",
    "        self.filename = filename\n",
    "        self.minsup = minsup\n",
    "        self.item_count = 0\n",
    "        self.trans_count = 0\n",
    "        self.output = output\n",
    "        self.outfilename = outfilename\n",
    "        self.maxdepth = maxdepth\n",
    "        self.data = None\n",
    "\n",
    "\n",
    "    def read_data(self):\n",
    "        self.item_count = 0\n",
    "        self.trans_count = 0\n",
    "        self.data = {}\n",
    "        listOfItemInTransaction = []\n",
    "\n",
    "        with open(self.filename, 'r') as csvfile:\n",
    "            csvreader = csv.reader(csvfile)\n",
    "            for row in csvreader:\n",
    "                self.trans_count += 1\n",
    "                items = [item.strip() for item in row if item.strip()]\n",
    "                listOfItemInTransaction.append(items)\n",
    "                    \n",
    "                for item in items:\n",
    "                    if item:\n",
    "                        if item not in self.data:\n",
    "                            self.data[item] = Itemset(item)\n",
    "                            self.item_count += 1\n",
    "\n",
    "                        self.data[item].tids.add(self.trans_count)\n",
    "\n",
    "        for _, value in self.data.items():\n",
    "            value.support = len(value.tids)\n",
    "\n",
    "        return listOfItemInTransaction\n",
    "    \n",
    "\n",
    "    def prune_and_sort_items(self):\n",
    "        keys_to_delete = [key for key, itemset in self.data.items() if itemset.support < self.minsup]\n",
    "\n",
    "        for key in keys_to_delete:\n",
    "            del self.data[key]\n",
    "\n",
    "        self.data = {k: v for k, v in sorted(self.data.items(), key=lambda item: item[1].support)}\n",
    "\n",
    "\n",
    "    def calculate_support(self, itemset):\n",
    "        common_tids = None\n",
    "\n",
    "        for item in itemset:\n",
    "            item_data = self.data[item]\n",
    "            if common_tids is None:\n",
    "                common_tids = set(item_data.tids)\n",
    "            else:\n",
    "                common_tids = common_tids.intersection(item_data.tids)\n",
    "\n",
    "        return len(common_tids)\n",
    "    \n",
    "\n",
    "    def eclat_mine(self, prefix, items, minsup, k, frequent_itemsets):\n",
    "        support = self.calculate_support(prefix)\n",
    "\n",
    "        if support >= minsup:\n",
    "            frequent_itemsets.append(prefix)\n",
    "\n",
    "        if support < minsup:\n",
    "            return\n",
    "\n",
    "        for item in items:\n",
    "            new_prefix = prefix | {item}\n",
    "            new_items = items.difference({item})\n",
    "            \n",
    "            new_prefix_support = self.calculate_support(new_prefix)\n",
    "            if new_prefix_support >= minsup and new_prefix not in frequent_itemsets:\n",
    "                self.eclat_mine(new_prefix, new_items, minsup, k, frequent_itemsets)\n",
    "\n",
    "\n",
    "    def run(self):\n",
    "        listOfItemInTransaction = self.read_data()\n",
    "        self.prune_and_sort_items()\n",
    "        minsup = self.minsup\n",
    "        frequent_itemsets = []\n",
    "\n",
    "        items = set(self.data.keys())\n",
    "\n",
    "        for item in items:\n",
    "            self.eclat_mine({item}, items.difference({item}), minsup, 1, frequent_itemsets)\n",
    "\n",
    "        return listOfItemInTransaction, frequent_itemsets"
   ]
  },
  {
   "cell_type": "markdown",
   "metadata": {},
   "source": [
    "### Association Rule"
   ]
  },
  {
   "cell_type": "code",
   "execution_count": 245,
   "metadata": {},
   "outputs": [],
   "source": [
    "def powerset(s):\n",
    "    return chain.from_iterable(combinations(s, r) for r in range(1, len(s)))"
   ]
  },
  {
   "cell_type": "code",
   "execution_count": 246,
   "metadata": {},
   "outputs": [],
   "source": [
    "def getSupport(testSet, itemSetList):\n",
    "    count = 0\n",
    "    for itemSet in itemSetList:\n",
    "        if(set(testSet).issubset(itemSet)):\n",
    "            count += 1\n",
    "    return count"
   ]
  },
  {
   "cell_type": "code",
   "execution_count": 247,
   "metadata": {},
   "outputs": [],
   "source": [
    "def associationRule(freqItemSet, itemSetList, minConf):\n",
    "    rules = []\n",
    "\n",
    "    for itemSet in freqItemSet:\n",
    "        subsets = powerset(itemSet)\n",
    "        itemSetSup = getSupport(itemSet, itemSetList)\n",
    "        \n",
    "        for s in subsets:\n",
    "            confidence = float(itemSetSup / getSupport(s, itemSetList))\n",
    "            if(confidence > minConf):\n",
    "                rules.append([set(s), set(itemSet.difference(s)), confidence])\n",
    "    \n",
    "    return rules"
   ]
  },
  {
   "cell_type": "markdown",
   "metadata": {},
   "source": [
    "### Trigger"
   ]
  },
  {
   "cell_type": "code",
   "execution_count": 248,
   "metadata": {},
   "outputs": [
    {
     "data": {
      "text/plain": [
       "[[{'e'}, {'d'}, 1.0],\n",
       " [{'d'}, {'e'}, 1.0],\n",
       " [{'a'}, {'c'}, 1.0],\n",
       " [{'c'}, {'a'}, 1.0],\n",
       " [{'a'}, {'b', 'c'}, 0.6666666666666666],\n",
       " [{'c'}, {'a', 'b'}, 0.6666666666666666],\n",
       " [{'b'}, {'a', 'c'}, 1.0],\n",
       " [{'a', 'c'}, {'b'}, 0.6666666666666666],\n",
       " [{'a', 'b'}, {'c'}, 1.0],\n",
       " [{'b', 'c'}, {'a'}, 1.0],\n",
       " [{'c'}, {'b'}, 0.6666666666666666],\n",
       " [{'b'}, {'c'}, 1.0],\n",
       " [{'a'}, {'b'}, 0.6666666666666666],\n",
       " [{'b'}, {'a'}, 1.0]]"
      ]
     },
     "execution_count": 248,
     "metadata": {},
     "output_type": "execute_result"
    }
   ],
   "source": [
    "filename = \"../notebook/data/example2.csv\"\n",
    "minsup = 2\n",
    "outfile = \"../notebook/output/example_eclat.csv\"\n",
    "\n",
    "e = Eclat(filename, minsup, output=True, outfilename=False, maxdepth=0)\n",
    "listOfItemInTransaction, freqItems = e.run()\n",
    "\n",
    "rules = associationRule(freqItems, listOfItemInTransaction, 0.1)\n",
    "rules"
   ]
  }
 ],
 "metadata": {
  "kernelspec": {
   "display_name": "venv",
   "language": "python",
   "name": "python3"
  },
  "language_info": {
   "codemirror_mode": {
    "name": "ipython",
    "version": 3
   },
   "file_extension": ".py",
   "mimetype": "text/x-python",
   "name": "python",
   "nbconvert_exporter": "python",
   "pygments_lexer": "ipython3",
   "version": "3.11.3"
  }
 },
 "nbformat": 4,
 "nbformat_minor": 2
}
