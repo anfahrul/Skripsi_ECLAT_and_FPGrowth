{
 "cells": [
  {
   "cell_type": "code",
   "execution_count": 15,
   "metadata": {},
   "outputs": [
    {
     "name": "stdout",
     "output_type": "stream",
     "text": [
      "Count: 5, Support: 0.006564436508770088\n",
      "Count: 10, Support: 0.013128873017540175\n",
      "Count: 15, Support: 0.019693309526310262\n",
      "Count: 20, Support: 0.02625774603508035\n"
     ]
    }
   ],
   "source": [
    "totalTransaction = 76168\n",
    "listOfMinimumSupport = [5, 10, 15, 20]\n",
    "\n",
    "for supportCount in listOfMinimumSupport:\n",
    "    support = (supportCount/totalTransaction)*100\n",
    "    print(\"Count: {}, Support: {}\".format(supportCount, support))"
   ]
  }
 ],
 "metadata": {
  "kernelspec": {
   "display_name": "venv",
   "language": "python",
   "name": "python3"
  },
  "language_info": {
   "codemirror_mode": {
    "name": "ipython",
    "version": 3
   },
   "file_extension": ".py",
   "mimetype": "text/x-python",
   "name": "python",
   "nbconvert_exporter": "python",
   "pygments_lexer": "ipython3",
   "version": "3.11.3"
  }
 },
 "nbformat": 4,
 "nbformat_minor": 2
}
