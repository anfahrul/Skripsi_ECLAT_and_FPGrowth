{
 "cells": [
  {
   "cell_type": "code",
   "execution_count": 61,
   "metadata": {},
   "outputs": [],
   "source": [
    "import numpy\n",
    "from csv import reader\n",
    "from collections import defaultdict\n",
    "from itertools import chain, combinations"
   ]
  },
  {
   "cell_type": "markdown",
   "metadata": {},
   "source": [
    "### Konstruksi FP-Tree"
   ]
  },
  {
   "cell_type": "code",
   "execution_count": 62,
   "metadata": {},
   "outputs": [],
   "source": [
    "class Node:\n",
    "    def __init__(self, itemName, frequency, parentNode):\n",
    "        self.itemName = itemName\n",
    "        self.count = frequency\n",
    "        self.parent = parentNode\n",
    "        self.children = {}\n",
    "        self.next = None\n",
    "\n",
    "    def increment(self, frequency):\n",
    "        self.count += frequency\n",
    "\n",
    "    def display(self, ind=1):\n",
    "        print('  ' * ind, self.itemName, ' ', self.count)\n",
    "        for child in list(self.children.values()):\n",
    "            child.display(ind+1)"
   ]
  },
  {
   "cell_type": "code",
   "execution_count": 63,
   "metadata": {},
   "outputs": [],
   "source": [
    "def updateHeaderTable(item, targetNode, headerTable):\n",
    "    if(headerTable[item][1] == None):\n",
    "        headerTable[item][1] = targetNode\n",
    "    else:\n",
    "        currentNode = headerTable[item][1]\n",
    "        # Traverse to the last node then link it to the target\n",
    "        while currentNode.next != None:\n",
    "            currentNode = currentNode.next\n",
    "        currentNode.next = targetNode"
   ]
  },
  {
   "cell_type": "code",
   "execution_count": 64,
   "metadata": {},
   "outputs": [],
   "source": [
    "def updateTree(item, parentNode, headerTable):\n",
    "    if item in parentNode.children:\n",
    "        # If the item already exists, increment the count\n",
    "        parentNode.children[item].increment(1)\n",
    "    else:\n",
    "        # Create a new branch\n",
    "        newItemNode = Node(item, 1, parentNode)\n",
    "        parentNode.children[item] = newItemNode\n",
    "        # Link the new branch to header table\n",
    "        updateHeaderTable(item, newItemNode, headerTable)\n",
    "\n",
    "    return parentNode.children[item]"
   ]
  },
  {
   "cell_type": "code",
   "execution_count": 65,
   "metadata": {},
   "outputs": [],
   "source": [
    "def constructFPTree(listOfItemset, frequency, minimumSupport):\n",
    "    headerTable = defaultdict(int)\n",
    "    # Counting frequency and create header table\n",
    "    for i, itemset in enumerate(listOfItemset):\n",
    "        for item in itemset:\n",
    "            headerTable[item] += frequency[i]\n",
    "\n",
    "    # Deleting items below minSup\n",
    "    headerTable = dict((item, supportValue) for item, supportValue in headerTable.items() if supportValue >= minimumSupport)\n",
    "\n",
    "    if(len(headerTable) == 0):\n",
    "        return None, None\n",
    "\n",
    "    # HeaderTable column [Item: [frequency, headNode]]\n",
    "    for item in headerTable:\n",
    "        headerTable[item] = [headerTable[item], None]\n",
    "\n",
    "    # Init Null head node\n",
    "    initialNode = Node('Null', 1, None)\n",
    "    # Update FP tree for each cleaned and sorted itemSet\n",
    "    for _, itemset in enumerate(listOfItemset):\n",
    "        itemset = [item for item in itemset if item in headerTable]\n",
    "        itemset.sort(key=lambda item: (-headerTable[item][0], item))\n",
    "\n",
    "        # Traverse from root to leaf, update tree with given item\n",
    "        currentNode = initialNode\n",
    "        for item in itemset:\n",
    "            currentNode = updateTree(item, currentNode, headerTable)\n",
    "\n",
    "    return initialNode, headerTable"
   ]
  },
  {
   "cell_type": "markdown",
   "metadata": {},
   "source": [
    "### Mining FP-Tree"
   ]
  },
  {
   "cell_type": "code",
   "execution_count": 66,
   "metadata": {},
   "outputs": [],
   "source": [
    "def findPrefixPath(node, prefixPath):\n",
    "    if node.parent != None:\n",
    "        prefixPath.append(node.itemName)\n",
    "        findPrefixPath(node.parent, prefixPath)"
   ]
  },
  {
   "cell_type": "code",
   "execution_count": 67,
   "metadata": {},
   "outputs": [],
   "source": [
    "def createConditionalPatternBase(item, headerTable):\n",
    "    # First node in linked list\n",
    "    nodeOfTree = headerTable[item][1]\n",
    "    conditionalPaths = []\n",
    "    frequencyOfEachPath = []\n",
    "\n",
    "    while nodeOfTree != None:\n",
    "        prefixPath = []\n",
    "        # From leaf node all the way to root and reverse the prefix path\n",
    "        findPrefixPath(nodeOfTree, prefixPath)\n",
    "        prefixPath = prefixPath[::-1]\n",
    "        \n",
    "        if len(prefixPath) > 1:\n",
    "            # Storing the prefix path and it's corresponding count\n",
    "            conditionalPaths.append(prefixPath[:len(prefixPath)-1])\n",
    "            frequencyOfEachPath.append(nodeOfTree.count)\n",
    "\n",
    "        # Go to next node / item in other branch\n",
    "        nodeOfTree = nodeOfTree.next\n",
    "\n",
    "    return conditionalPaths, frequencyOfEachPath"
   ]
  },
  {
   "cell_type": "code",
   "execution_count": 68,
   "metadata": {},
   "outputs": [],
   "source": [
    "def constructConditionalTree(conditionalPatternBase, frequency, minimumSupport):\n",
    "    conditionalHeaderTable = defaultdict(int)\n",
    "    # Counting frequency and create header table\n",
    "    for i, itemSet in enumerate(conditionalPatternBase):\n",
    "        for item in itemSet:\n",
    "            conditionalHeaderTable[item] += frequency[i]\n",
    "\n",
    "    # Deleting items below minSup\n",
    "    conditionalHeaderTable = dict((item, supportValue) for item, supportValue in conditionalHeaderTable.items() if supportValue >= minimumSupport)\n",
    "\n",
    "    if(len(conditionalHeaderTable) == 0):\n",
    "        return None, None\n",
    "\n",
    "    # HeaderTable column [Item: [frequency, headNode]]\n",
    "    for item in conditionalHeaderTable:\n",
    "        conditionalHeaderTable[item] = [conditionalHeaderTable[item], None]\n",
    "\n",
    "    # Init Null head node\n",
    "    conditionalInitialNode = Node('Null', 1, None)\n",
    "\n",
    "    conditionalPatternBaseExtracted = []\n",
    "    for itemset, freq in zip(conditionalPatternBase, frequency):\n",
    "        conditionalPatternBaseExtracted.extend([itemset.copy() for _ in range(freq)])\n",
    "\n",
    "    # Update FP tree for each cleaned and sorted itemSet\n",
    "    for _, itemset in enumerate(conditionalPatternBaseExtracted):\n",
    "        itemset = [item for item in itemset if item in conditionalHeaderTable]\n",
    "        # sorting by ascending or alphabet\n",
    "\n",
    "        # Traverse from root to leaf, update tree with given item\n",
    "        currentNode = conditionalInitialNode\n",
    "        for item in itemset:\n",
    "            currentNode = updateTree(item, currentNode, conditionalHeaderTable)\n",
    "\n",
    "    return conditionalInitialNode, conditionalHeaderTable"
   ]
  },
  {
   "cell_type": "code",
   "execution_count": 69,
   "metadata": {},
   "outputs": [],
   "source": [
    "def miningTrees(headerTable, minimumSupport, prefix, freqItemsetList):\n",
    "    print(\"=====start=====\")\n",
    "    # Sort the items with frequency and create a list\n",
    "    # sortedItemList = [item[0] for item in sorted(list(headerTable.items()), key=lambda p:p[1][0])]\n",
    "    itemlistSorted = [item[0] for item in sorted(headerTable.items(), key=lambda item: (-item[1][0], item[0]))]\n",
    "    print(\"itemlistSorted\", itemlistSorted)\n",
    "    reversedItemList = itemlistSorted[::-1]\n",
    "\n",
    "    # Start with the lowest frequency\n",
    "    for item in itemlistSorted:  \n",
    "        # Pattern growth is achieved by the concatenation of suffix pattern with frequent patterns generated from conditional FP-tree\n",
    "        newFreqItemset = prefix.copy()\n",
    "        newFreqItemset.add(item)\n",
    "        print(\"Mining item\", item)\n",
    "        print(\"NewFreqSet\", newFreqItemset)\n",
    "        freqItemsetList.append(newFreqItemset)\n",
    "        print(\"FreqPatternItemset\", freqItemsetList)\n",
    "\n",
    "        # Find all prefix path, constrcut conditional pattern base\n",
    "        conditionalPatternBase, frequency = createConditionalPatternBase(item, headerTable)\n",
    "        print(\"conditionalPattBase of item\", item, \"is\", conditionalPatternBase)\n",
    "        # Construct conditonal FP Tree with conditional pattern base\n",
    "        conditionalTree, newHeaderTable = constructConditionalTree(conditionalPatternBase, frequency, minimumSupport)\n",
    "        \n",
    "        if newHeaderTable != None:\n",
    "            print(\"trigger\")\n",
    "            print(conditionalTree.display())\n",
    "            # Mining recursively on the tree\n",
    "            miningTrees(newHeaderTable, minimumSupport, newFreqItemset, freqItemsetList)"
   ]
  },
  {
   "cell_type": "markdown",
   "metadata": {},
   "source": [
    "## Association Rule"
   ]
  },
  {
   "cell_type": "code",
   "execution_count": 70,
   "metadata": {},
   "outputs": [],
   "source": [
    "def powerset(s):\n",
    "    return chain.from_iterable(combinations(s, r) for r in range(1, len(s)))"
   ]
  },
  {
   "cell_type": "code",
   "execution_count": 71,
   "metadata": {},
   "outputs": [],
   "source": [
    "def getSupport(testSet, itemSetList):\n",
    "    count = 0\n",
    "    for itemSet in itemSetList:\n",
    "        if(set(testSet).issubset(itemSet)):\n",
    "            count += 1\n",
    "    return count"
   ]
  },
  {
   "cell_type": "code",
   "execution_count": 72,
   "metadata": {},
   "outputs": [],
   "source": [
    "def associationRule(freqItemSet, itemSetList, minConf):\n",
    "    rules = []\n",
    "\n",
    "    for itemSet in freqItemSet:\n",
    "        subsets = powerset(itemSet)\n",
    "        itemSetSup = getSupport(itemSet, itemSetList)\n",
    "        \n",
    "        for s in subsets:\n",
    "            confidence = float(itemSetSup / getSupport(s, itemSetList))\n",
    "            if(confidence > minConf):\n",
    "                rules.append([set(s), set(itemSet.difference(s)), confidence])\n",
    "    \n",
    "    return rules"
   ]
  },
  {
   "cell_type": "markdown",
   "metadata": {},
   "source": [
    "### Trigger the Algorithm"
   ]
  },
  {
   "cell_type": "code",
   "execution_count": 73,
   "metadata": {},
   "outputs": [],
   "source": [
    "def getDatasetFromFile(fname):\n",
    "    listOfItemset = []\n",
    "    frequencyOfTransaction = []\n",
    "    \n",
    "    with open(fname, 'r') as file:\n",
    "        csv_reader = reader(file)\n",
    "        for line in csv_reader:\n",
    "            line = list(filter(None, line))\n",
    "            listOfItemset.append(line)\n",
    "            frequencyOfTransaction.append(1)\n",
    "\n",
    "    print(\"listOfItemset\", listOfItemset)\n",
    "    return listOfItemset, frequencyOfTransaction"
   ]
  },
  {
   "cell_type": "code",
   "execution_count": 74,
   "metadata": {},
   "outputs": [],
   "source": [
    "\n",
    "def fpgrowthFromFile(filename, minimumSupportRatio, minimumConfidence):\n",
    "    listOfItemset, frequency = getDatasetFromFile(filename)\n",
    "    minimumSupport = len(listOfItemset) * minimumSupportRatio\n",
    "\n",
    "    fpTree, headerTable = constructFPTree(listOfItemset, frequency, minimumSupport)\n",
    "    # print(fpTree.display())\n",
    "    if(fpTree.children == None):\n",
    "        print('No frequent item set')\n",
    "    else:\n",
    "        freqentItemset = []\n",
    "        miningTrees(headerTable, minimumSupport, set(), freqentItemset)\n",
    "        rules = associationRule(freqentItemset, listOfItemset, minimumConfidence)\n",
    "        return freqentItemset, rules"
   ]
  },
  {
   "cell_type": "code",
   "execution_count": 75,
   "metadata": {},
   "outputs": [
    {
     "name": "stdout",
     "output_type": "stream",
     "text": [
      "listOfItemset [['a', 'b', 'c'], ['a', 'c', 'd', 'e', 'f'], ['a', 'b', 'c'], ['d', 'e']]\n",
      "=====start=====\n",
      "itemlistSorted ['a', 'c', 'b', 'd', 'e']\n",
      "Mining item a\n",
      "NewFreqSet {'a'}\n",
      "FreqPatternItemset [{'a'}]\n",
      "conditionalPattBase of item a is []\n",
      "Mining item c\n",
      "NewFreqSet {'c'}\n",
      "FreqPatternItemset [{'a'}, {'c'}]\n",
      "conditionalPattBase of item c is [['a']]\n",
      "trigger\n",
      "   Null   1\n",
      "     a   3\n",
      "None\n",
      "=====start=====\n",
      "itemlistSorted ['a']\n",
      "Mining item a\n",
      "NewFreqSet {'c', 'a'}\n",
      "FreqPatternItemset [{'a'}, {'c'}, {'c', 'a'}]\n",
      "conditionalPattBase of item a is []\n",
      "Mining item b\n",
      "NewFreqSet {'b'}\n",
      "FreqPatternItemset [{'a'}, {'c'}, {'c', 'a'}, {'b'}]\n",
      "conditionalPattBase of item b is [['a', 'c']]\n",
      "trigger\n",
      "   Null   1\n",
      "     a   2\n",
      "       c   2\n",
      "None\n",
      "=====start=====\n",
      "itemlistSorted ['a', 'c']\n",
      "Mining item a\n",
      "NewFreqSet {'b', 'a'}\n",
      "FreqPatternItemset [{'a'}, {'c'}, {'c', 'a'}, {'b'}, {'b', 'a'}]\n",
      "conditionalPattBase of item a is []\n",
      "Mining item c\n",
      "NewFreqSet {'b', 'c'}\n",
      "FreqPatternItemset [{'a'}, {'c'}, {'c', 'a'}, {'b'}, {'b', 'a'}, {'b', 'c'}]\n",
      "conditionalPattBase of item c is [['a']]\n",
      "trigger\n",
      "   Null   1\n",
      "     a   2\n",
      "None\n",
      "=====start=====\n",
      "itemlistSorted ['a']\n",
      "Mining item a\n",
      "NewFreqSet {'b', 'c', 'a'}\n",
      "FreqPatternItemset [{'a'}, {'c'}, {'c', 'a'}, {'b'}, {'b', 'a'}, {'b', 'c'}, {'b', 'c', 'a'}]\n",
      "conditionalPattBase of item a is []\n",
      "Mining item d\n",
      "NewFreqSet {'d'}\n",
      "FreqPatternItemset [{'a'}, {'c'}, {'c', 'a'}, {'b'}, {'b', 'a'}, {'b', 'c'}, {'b', 'c', 'a'}, {'d'}]\n",
      "conditionalPattBase of item d is [['a', 'c']]\n",
      "Mining item e\n",
      "NewFreqSet {'e'}\n",
      "FreqPatternItemset [{'a'}, {'c'}, {'c', 'a'}, {'b'}, {'b', 'a'}, {'b', 'c'}, {'b', 'c', 'a'}, {'d'}, {'e'}]\n",
      "conditionalPattBase of item e is [['a', 'c', 'd'], ['d']]\n",
      "trigger\n",
      "   Null   1\n",
      "     d   2\n",
      "None\n",
      "=====start=====\n",
      "itemlistSorted ['d']\n",
      "Mining item d\n",
      "NewFreqSet {'d', 'e'}\n",
      "FreqPatternItemset [{'a'}, {'c'}, {'c', 'a'}, {'b'}, {'b', 'a'}, {'b', 'c'}, {'b', 'c', 'a'}, {'d'}, {'e'}, {'d', 'e'}]\n",
      "conditionalPattBase of item d is []\n",
      "\n",
      "\n",
      "Rules: \n"
     ]
    },
    {
     "data": {
      "text/plain": [
       "[[{'c'}, {'a'}, 1.0],\n",
       " [{'a'}, {'c'}, 1.0],\n",
       " [{'b'}, {'a'}, 1.0],\n",
       " [{'a'}, {'b'}, 0.6666666666666666],\n",
       " [{'b'}, {'c'}, 1.0],\n",
       " [{'c'}, {'b'}, 0.6666666666666666],\n",
       " [{'b'}, {'a', 'c'}, 1.0],\n",
       " [{'c'}, {'a', 'b'}, 0.6666666666666666],\n",
       " [{'a'}, {'b', 'c'}, 0.6666666666666666],\n",
       " [{'b', 'c'}, {'a'}, 1.0],\n",
       " [{'a', 'b'}, {'c'}, 1.0],\n",
       " [{'a', 'c'}, {'b'}, 0.6666666666666666],\n",
       " [{'d'}, {'e'}, 1.0],\n",
       " [{'e'}, {'d'}, 1.0]]"
      ]
     },
     "execution_count": 75,
     "metadata": {},
     "output_type": "execute_result"
    }
   ],
   "source": [
    "freqItems, rules = fpgrowthFromFile(\"data/example2.csv\", 0.4, 0.1)\n",
    "print(\"\\n\")\n",
    "# print(\"Frequent pattern itemset: \")\n",
    "# freqItems\n",
    "\n",
    "print(\"Rules: \")\n",
    "rules"
   ]
  }
 ],
 "metadata": {
  "kernelspec": {
   "display_name": "venv",
   "language": "python",
   "name": "python3"
  },
  "language_info": {
   "codemirror_mode": {
    "name": "ipython",
    "version": 3
   },
   "file_extension": ".py",
   "mimetype": "text/x-python",
   "name": "python",
   "nbconvert_exporter": "python",
   "pygments_lexer": "ipython3",
   "version": "3.11.3"
  }
 },
 "nbformat": 4,
 "nbformat_minor": 2
}
