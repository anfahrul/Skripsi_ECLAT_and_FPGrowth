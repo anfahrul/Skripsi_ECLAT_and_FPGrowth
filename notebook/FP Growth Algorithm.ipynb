{
 "cells": [
  {
   "cell_type": "code",
   "execution_count": 1662,
   "metadata": {},
   "outputs": [],
   "source": [
    "import numpy\n",
    "from csv import reader\n",
    "from collections import defaultdict\n",
    "from itertools import chain, combinations"
   ]
  },
  {
   "cell_type": "markdown",
   "metadata": {},
   "source": [
    "### Konstruksi FP-Tree"
   ]
  },
  {
   "cell_type": "code",
   "execution_count": 1663,
   "metadata": {},
   "outputs": [],
   "source": [
    "class Node:\n",
    "    def __init__(self, itemName, frequency, parentNode):\n",
    "        self.itemName = itemName\n",
    "        self.count = frequency\n",
    "        self.parent = parentNode\n",
    "        self.children = {}\n",
    "        self.next = None\n",
    "\n",
    "    def increment(self, frequency):\n",
    "        self.count += frequency\n",
    "\n",
    "    def display(self, ind=1):\n",
    "        print('  ' * ind, self.itemName, ' ', self.count)\n",
    "        for child in list(self.children.values()):\n",
    "            child.display(ind+1)"
   ]
  },
  {
   "cell_type": "code",
   "execution_count": 1664,
   "metadata": {},
   "outputs": [],
   "source": [
    "def updateHeaderTable(item, targetNode, headerTable):\n",
    "    if(headerTable[item][1] == None):\n",
    "        headerTable[item][1] = targetNode\n",
    "    else:\n",
    "        currentNode = headerTable[item][1]\n",
    "        # Traverse to the last node then link it to the target\n",
    "        while currentNode.next != None:\n",
    "            currentNode = currentNode.next\n",
    "        currentNode.next = targetNode"
   ]
  },
  {
   "cell_type": "code",
   "execution_count": 1665,
   "metadata": {},
   "outputs": [],
   "source": [
    "def updateTree(item, parentNode, headerTable):\n",
    "    if item in parentNode.children:\n",
    "        # If the item already exists, increment the count\n",
    "        parentNode.children[item].increment(1)\n",
    "    else:\n",
    "        # Create a new branch\n",
    "        newItemNode = Node(item, 1, parentNode)\n",
    "        parentNode.children[item] = newItemNode\n",
    "        # Link the new branch to header table\n",
    "        updateHeaderTable(item, newItemNode, headerTable)\n",
    "\n",
    "    return parentNode.children[item]"
   ]
  },
  {
   "cell_type": "code",
   "execution_count": 1666,
   "metadata": {},
   "outputs": [],
   "source": [
    "def constructTree(listOfItemset, frequency, minimumSupport):\n",
    "    headerTable = defaultdict(int)\n",
    "    # Counting frequency and create header table\n",
    "    for idx, itemSet in enumerate(listOfItemset):\n",
    "        for item in itemSet:\n",
    "            headerTable[item] += frequency[idx]\n",
    "\n",
    "    # Deleting items below minSup\n",
    "    headerTable = dict((item, sup) for item, sup in headerTable.items() if sup >= minimumSupport)\n",
    "\n",
    "    if(len(headerTable) == 0):\n",
    "        return None, None\n",
    "\n",
    "    # HeaderTable column [Item: [frequency, headNode]]\n",
    "    for item in headerTable:\n",
    "        headerTable[item] = [headerTable[item], None]\n",
    "\n",
    "    # Init Null head node\n",
    "    initialNode = Node('Null', 1, None)\n",
    "    # Update FP tree for each cleaned and sorted itemSet\n",
    "    for _, itemset in enumerate(listOfItemset):\n",
    "        itemset = [item for item in itemset if item in headerTable]\n",
    "        itemset.sort(key=lambda item: (-headerTable[item][0], item))\n",
    "\n",
    "        # Traverse from root to leaf, update tree with given item\n",
    "        currentNode = initialNode\n",
    "        for item in itemset:\n",
    "            currentNode = updateTree(item, currentNode, headerTable)\n",
    "\n",
    "    return initialNode, headerTable"
   ]
  },
  {
   "cell_type": "markdown",
   "metadata": {},
   "source": [
    "### Mining FP-Tree"
   ]
  },
  {
   "cell_type": "code",
   "execution_count": 1667,
   "metadata": {},
   "outputs": [],
   "source": [
    "def findPrefixPath(node, prefixPath):\n",
    "    if node.parent != None:\n",
    "        prefixPath.append(node.itemName)\n",
    "        findPrefixPath(node.parent, prefixPath)"
   ]
  },
  {
   "cell_type": "code",
   "execution_count": 1668,
   "metadata": {},
   "outputs": [],
   "source": [
    "def createConditionalPatternBase(item, headerTable):\n",
    "    # First node in linked list\n",
    "    nodeOfTree = headerTable[item][1]\n",
    "    conditionalPaths = []\n",
    "    frequencyOfEachPath = []\n",
    "\n",
    "    while nodeOfTree != None:\n",
    "        prefixPath = []\n",
    "        # From leaf node all the way to root and reverse the prefix path\n",
    "        findPrefixPath(nodeOfTree, prefixPath)\n",
    "        prefixPath = prefixPath[::-1]\n",
    "        \n",
    "        if len(prefixPath) > 1:\n",
    "            # Storing the prefix path and it's corresponding count\n",
    "            conditionalPaths.append(prefixPath[:len(prefixPath)-1])\n",
    "            frequencyOfEachPath.append(nodeOfTree.count)\n",
    "\n",
    "        # Go to next node / item in other branch\n",
    "        nodeOfTree = nodeOfTree.next\n",
    "\n",
    "    return conditionalPaths, frequencyOfEachPath"
   ]
  },
  {
   "cell_type": "code",
   "execution_count": 1669,
   "metadata": {},
   "outputs": [],
   "source": [
    "def constructConditionalTree(conditionalPatternBase, frequency, minimumSupport):\n",
    "    conditionalHeaderTable = defaultdict(int)\n",
    "    # Counting frequency and create header table\n",
    "    for idx, itemSet in enumerate(conditionalPatternBase):\n",
    "        for item in itemSet:\n",
    "            conditionalHeaderTable[item] += frequency[idx]\n",
    "\n",
    "    # Deleting items below minSup\n",
    "    conditionalHeaderTable = dict((item, sup) for item, sup in conditionalHeaderTable.items() if sup >= minimumSupport)\n",
    "\n",
    "    if(len(conditionalHeaderTable) == 0):\n",
    "        return None, None\n",
    "\n",
    "    # HeaderTable column [Item: [frequency, headNode]]\n",
    "    for item in conditionalHeaderTable:\n",
    "        conditionalHeaderTable[item] = [conditionalHeaderTable[item], None]\n",
    "\n",
    "    # Init Null head node\n",
    "    conditionalInitialNode = Node('Null', 1, None)\n",
    "\n",
    "    conditionalPatternBaseExtracted = []\n",
    "    for itemset, freq in zip(conditionalPatternBase, frequency):\n",
    "        conditionalPatternBaseExtracted.extend([itemset.copy() for _ in range(freq)])\n",
    "\n",
    "    # Update FP tree for each cleaned and sorted itemSet\n",
    "    for _, itemset in enumerate(conditionalPatternBaseExtracted):\n",
    "        itemset = [item for item in itemset if item in conditionalHeaderTable]\n",
    "\n",
    "        # Traverse from root to leaf, update tree with given item\n",
    "        currentNode = conditionalInitialNode\n",
    "        for item in itemset:\n",
    "            currentNode = updateTree(item, currentNode, conditionalHeaderTable)\n",
    "\n",
    "    return conditionalInitialNode, conditionalHeaderTable"
   ]
  },
  {
   "cell_type": "code",
   "execution_count": 1670,
   "metadata": {},
   "outputs": [],
   "source": [
    "def mineTree(headerTable, minSup, preFix, freqItemList):\n",
    "    # Sort the items with frequency and create a list\n",
    "    # sortedItemList = [item[0] for item in sorted(list(headerTable.items()), key=lambda p:p[1][0])]\n",
    "    sortedItemList = [item[0] for item in sorted(headerTable.items(), key=lambda item: (-item[1][0], item[0]))]\n",
    "    reversedItemList = sortedItemList[::-1]\n",
    "\n",
    "    # Start with the lowest frequency\n",
    "    for item in reversedItemList:  \n",
    "        # Pattern growth is achieved by the concatenation of suffix pattern with frequent patterns generated from conditional FP-tree\n",
    "        newFreqSet = preFix.copy()\n",
    "        newFreqSet.add(item)\n",
    "        freqItemList.append(newFreqSet)\n",
    "\n",
    "        # Find all prefix path, constrcut conditional pattern base\n",
    "        conditionalPattBase, frequency = createConditionalPatternBase(item, headerTable)\n",
    "        # Construct conditonal FP Tree with conditional pattern base\n",
    "        print(\"conditionalPattBase item\", item, conditionalPattBase)\n",
    "        conditionalTree, newHeaderTable = constructConditionalTree(conditionalPattBase, frequency, minSup)\n",
    "        if newHeaderTable != None:\n",
    "            print(conditionalTree.display())\n",
    "            # Mining recursively on the tree\n",
    "            mineTree(newHeaderTable, minSup, newFreqSet, freqItemList)"
   ]
  },
  {
   "cell_type": "code",
   "execution_count": 1671,
   "metadata": {},
   "outputs": [],
   "source": [
    "def powerset(s):\n",
    "    return chain.from_iterable(combinations(s, r) for r in range(1, len(s)))"
   ]
  },
  {
   "cell_type": "code",
   "execution_count": 1672,
   "metadata": {},
   "outputs": [],
   "source": [
    "def getSupport(testSet, itemSetList):\n",
    "    count = 0\n",
    "    for itemSet in itemSetList:\n",
    "        if(set(testSet).issubset(itemSet)):\n",
    "            count += 1\n",
    "    return count"
   ]
  },
  {
   "cell_type": "code",
   "execution_count": 1673,
   "metadata": {},
   "outputs": [],
   "source": [
    "def associationRule(freqItemSet, itemSetList, minConf):\n",
    "    rules = []\n",
    "    for itemSet in freqItemSet:\n",
    "        subsets = powerset(itemSet)\n",
    "        itemSetSup = getSupport(itemSet, itemSetList)\n",
    "        for s in subsets:\n",
    "            confidence = float(itemSetSup / getSupport(s, itemSetList))\n",
    "            if(confidence > minConf):\n",
    "                rules.append([set(s), set(itemSet.difference(s)), confidence])\n",
    "    return rules"
   ]
  },
  {
   "cell_type": "code",
   "execution_count": 1674,
   "metadata": {},
   "outputs": [],
   "source": [
    "def getFrequencyFromList(itemSetList):\n",
    "    frequency = [1 for i in range(len(itemSetList))]\n",
    "    return frequency"
   ]
  },
  {
   "cell_type": "markdown",
   "metadata": {},
   "source": [
    "### Trigger the Algorithm"
   ]
  },
  {
   "cell_type": "code",
   "execution_count": 1675,
   "metadata": {},
   "outputs": [],
   "source": [
    "def getDatasetFromFile(fname):\n",
    "    listOfItemset = []\n",
    "    frequencyOfTransaction = []\n",
    "    \n",
    "    with open(fname, 'r') as file:\n",
    "        csv_reader = reader(file)\n",
    "        for line in csv_reader:\n",
    "            line = list(filter(None, line))\n",
    "            listOfItemset.append(line)\n",
    "            frequencyOfTransaction.append(1)\n",
    "\n",
    "    return listOfItemset, frequencyOfTransaction"
   ]
  },
  {
   "cell_type": "code",
   "execution_count": 1676,
   "metadata": {},
   "outputs": [],
   "source": [
    "def fpgrowthFromFile(fname, minSupRatio, minConf):\n",
    "    listOfItemset, frequency = getDatasetFromFile(fname)\n",
    "    minimumSupport = len(listOfItemset) * minSupRatio\n",
    "\n",
    "    fpTree, headerTable = constructTree(listOfItemset, frequency, minimumSupport)\n",
    "    # print(fpTree.display())\n",
    "    if(fpTree.children == None):\n",
    "        print('No frequent item set')\n",
    "    else:\n",
    "        freqItems = []\n",
    "        mineTree(headerTable, minimumSupport, set(), freqItems)\n",
    "        rules = associationRule(freqItems, listOfItemset, minConf)\n",
    "        return freqItems, rules"
   ]
  },
  {
   "cell_type": "code",
   "execution_count": 1677,
   "metadata": {},
   "outputs": [
    {
     "name": "stdout",
     "output_type": "stream",
     "text": [
      "conditionalPattBase item p [['c', 'f', 'a', 'm'], ['c', 'b']]\n",
      "   Null   1\n",
      "     c   3\n",
      "None\n",
      "conditionalPattBase item c []\n",
      "conditionalPattBase item m [['c', 'f', 'a'], ['c', 'f', 'a', 'b']]\n",
      "   Null   1\n",
      "     c   3\n",
      "       f   3\n",
      "         a   3\n",
      "None\n",
      "conditionalPattBase item f [['c']]\n",
      "   Null   1\n",
      "     c   3\n",
      "None\n",
      "conditionalPattBase item c []\n",
      "conditionalPattBase item c []\n",
      "conditionalPattBase item a [['c', 'f']]\n",
      "   Null   1\n",
      "     c   3\n",
      "       f   3\n",
      "None\n",
      "conditionalPattBase item f [['c']]\n",
      "   Null   1\n",
      "     c   3\n",
      "None\n",
      "conditionalPattBase item c []\n",
      "conditionalPattBase item c []\n",
      "conditionalPattBase item b [['c', 'f', 'a'], ['f'], ['c']]\n",
      "conditionalPattBase item a [['c', 'f']]\n",
      "   Null   1\n",
      "     c   3\n",
      "       f   3\n",
      "None\n",
      "conditionalPattBase item f [['c']]\n",
      "   Null   1\n",
      "     c   3\n",
      "None\n",
      "conditionalPattBase item c []\n",
      "conditionalPattBase item c []\n",
      "conditionalPattBase item f [['c']]\n",
      "   Null   1\n",
      "     c   3\n",
      "None\n",
      "conditionalPattBase item c []\n",
      "conditionalPattBase item c []\n"
     ]
    },
    {
     "data": {
      "text/plain": [
       "[{'p'},\n",
       " {'c', 'p'},\n",
       " {'m'},\n",
       " {'f', 'm'},\n",
       " {'c', 'f', 'm'},\n",
       " {'c', 'm'},\n",
       " {'a', 'm'},\n",
       " {'a', 'f', 'm'},\n",
       " {'a', 'c', 'f', 'm'},\n",
       " {'a', 'c', 'm'},\n",
       " {'b'},\n",
       " {'a'},\n",
       " {'a', 'f'},\n",
       " {'a', 'c', 'f'},\n",
       " {'a', 'c'},\n",
       " {'f'},\n",
       " {'c', 'f'},\n",
       " {'c'}]"
      ]
     },
     "execution_count": 1677,
     "metadata": {},
     "output_type": "execute_result"
    }
   ],
   "source": [
    "freqItems, rules = fpgrowthFromFile(\"data/example.csv\", 0.6, 0.1)\n",
    "# print(\"\\n\")\n",
    "# print(\"Frequent pattern itemset: \")\n",
    "freqItems"
   ]
  }
 ],
 "metadata": {
  "kernelspec": {
   "display_name": "venv",
   "language": "python",
   "name": "python3"
  },
  "language_info": {
   "codemirror_mode": {
    "name": "ipython",
    "version": 3
   },
   "file_extension": ".py",
   "mimetype": "text/x-python",
   "name": "python",
   "nbconvert_exporter": "python",
   "pygments_lexer": "ipython3",
   "version": "3.11.3"
  }
 },
 "nbformat": 4,
 "nbformat_minor": 2
}
